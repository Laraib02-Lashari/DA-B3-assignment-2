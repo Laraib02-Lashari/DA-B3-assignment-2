{
 "cells": [
  {
   "cell_type": "markdown",
   "id": "a758a746-ab4b-48b6-98dc-45093b46607d",
   "metadata": {},
   "source": [
    "1. Write a Python function called add_numbers that takes two numbers as arguments and returns their sum. Then, test the function by calling it with two numbers of your choice."
   ]
  },
  {
   "cell_type": "code",
   "execution_count": 2,
   "id": "52ca9409-d4f9-40d0-a60f-4805428f8865",
   "metadata": {},
   "outputs": [],
   "source": [
    "def add_numbers(a,b):\n",
    "    print(a+b)"
   ]
  },
  {
   "cell_type": "code",
   "execution_count": 3,
   "id": "91f1e792-7c56-46cc-ab9d-e097f7cc293c",
   "metadata": {},
   "outputs": [
    {
     "name": "stdout",
     "output_type": "stream",
     "text": [
      "10\n"
     ]
    }
   ],
   "source": [
    "add_numbers(7,3)"
   ]
  },
  {
   "cell_type": "markdown",
   "id": "73ff5400-836c-44ee-aeeb-0b84be9db4d8",
   "metadata": {},
   "source": [
    "2. Create a Python function called currency_converter() that takes two arguments:\n",
    "\n",
    "- amount: The amount of money to be converted (in USD).\n",
    "- exchange_rate (default is 280): The conversion rate from USD to another currency (e.g., PKR). You can assume the default rate is 1 USD = 280 PKR.\n",
    "\n",
    "The function should return a message showing how much the given amount is worth in the target currency (PKR)."
   ]
  },
  {
   "cell_type": "code",
   "execution_count": 4,
   "id": "267d8cfc-ef14-4250-a5a9-1233ad48867d",
   "metadata": {},
   "outputs": [],
   "source": [
    "def currency_converter(amount, exchange_rate=280):\n",
    "    currency =(amount * exchange_rate)\n",
    "    print(amount, \"USD is worth\", currency, \"PKR\")"
   ]
  },
  {
   "cell_type": "code",
   "execution_count": 6,
   "id": "e88bd81a-6d98-4430-8672-7b5d4710e404",
   "metadata": {},
   "outputs": [
    {
     "name": "stdout",
     "output_type": "stream",
     "text": [
      "9 USD is worth 2520 PKR\n"
     ]
    }
   ],
   "source": [
    "currency_converter(9)"
   ]
  },
  {
   "cell_type": "markdown",
   "id": "0f49a1a2-234e-434f-bbc1-bb5ed293e2c4",
   "metadata": {},
   "source": [
    "3. Write a Python function display_student_info that accepts the following details about a student:\n",
    "\n",
    "- name (Keyword argument): The name of the student.\n",
    "- age (Keyword argument): The age of the student.\n",
    "- grade (Keyword argument): The grade the student is in.\n",
    "- school (Keyword argument): The name of the school the student attends."
   ]
  },
  {
   "cell_type": "code",
   "execution_count": 7,
   "id": "151bbc9a-7b69-446f-b22a-30a316132787",
   "metadata": {},
   "outputs": [
    {
     "name": "stdout",
     "output_type": "stream",
     "text": [
      "Laraib 24 Masters Elites School\n"
     ]
    }
   ],
   "source": [
    "def display_student_info(name, age, grade, school):\n",
    "    print(name, age, grade, school)\n",
    "display_student_info(name='Laraib',age=24,grade='Masters',school='Elites School')"
   ]
  },
  {
   "cell_type": "markdown",
   "id": "6bd6698d-f556-439a-981f-dfa0ef46ed9a",
   "metadata": {},
   "source": [
    "4. Write a Python function calculate_price that accepts two positional arguments:\n",
    "\n",
    "- price: The price of a single item.\n",
    "- quantity: The number of items bought.\n",
    "- The function should return the total price by multiplying price and quantity."
   ]
  },
  {
   "cell_type": "code",
   "execution_count": 8,
   "id": "82f0b117-8e09-4f65-8391-25f9369f423b",
   "metadata": {},
   "outputs": [],
   "source": [
    "def calculate_price(Price, Quantity):\n",
    "    print(Price * Quantity)"
   ]
  },
  {
   "cell_type": "code",
   "execution_count": 9,
   "id": "947c86bb-4349-4b78-a5e8-6c9a1c996d34",
   "metadata": {},
   "outputs": [
    {
     "name": "stdout",
     "output_type": "stream",
     "text": [
      "80\n"
     ]
    }
   ],
   "source": [
    "calculate_price(20,4)"
   ]
  },
  {
   "cell_type": "code",
   "execution_count": 25,
   "id": "e6c51b3d-4829-4ce1-8fa1-9a4833268885",
   "metadata": {},
   "outputs": [
    {
     "name": "stdout",
     "output_type": "stream",
     "text": [
      "270\n"
     ]
    }
   ],
   "source": [
    "calculate_price(Quantity=3, Price=90)"
   ]
  },
  {
   "cell_type": "markdown",
   "id": "e589be97-b036-4b13-86b9-9d3312761a0c",
   "metadata": {},
   "source": [
    "5. Write a Python function display_prices that takes a product name and an arbitrary number of keyword arguments representing product prices. The function should display each product and its price.\n",
    "\n",
    "Product: Laptop\n",
    "\n",
    "Amazon: $800\n",
    "\n",
    "eBay: $750\n",
    "\n",
    "Walmart: $780"
   ]
  },
  {
   "cell_type": "code",
   "execution_count": 7,
   "id": "a3dfe9da-3c14-41ee-b762-784d216b03f7",
   "metadata": {},
   "outputs": [
    {
     "name": "stdout",
     "output_type": "stream",
     "text": [
      "Laptop\n",
      "{'Amazon': '$800', 'eBay': '$750', 'Walmart': '$780'}\n"
     ]
    }
   ],
   "source": [
    "def display_prices(Product,**kwargs):\n",
    "    print(Product)\n",
    "    print(kwargs)\n",
    "display_prices('Laptop',Amazon='$800',eBay='$750',Walmart='$780')"
   ]
  },
  {
   "cell_type": "markdown",
   "id": "5a5910f5-e54e-4515-8c98-c3898f96c1ca",
   "metadata": {},
   "source": [
    "6. Write a Python function find_max that takes any number of numerical arguments and returns the maximum number."
   ]
  },
  {
   "cell_type": "code",
   "execution_count": 11,
   "id": "ddeecf84-1889-4e97-958f-93bf2867d274",
   "metadata": {},
   "outputs": [],
   "source": [
    "def find_max(*args):\n",
    "    print(max(args))\n",
    "    "
   ]
  },
  {
   "cell_type": "code",
   "execution_count": 12,
   "id": "45b92072-9566-4683-b5b9-557592304c12",
   "metadata": {},
   "outputs": [
    {
     "name": "stdout",
     "output_type": "stream",
     "text": [
      "1000\n"
     ]
    }
   ],
   "source": [
    "find_max(1,2,3,56,78,909,1000)"
   ]
  },
  {
   "cell_type": "markdown",
   "id": "44669d12-8201-466b-a8e8-f7538f3eb72f",
   "metadata": {},
   "source": [
    "7. Write a Python function display_info that takes:\n",
    "Positional arguments for the name and age of a person.\n",
    "Keyword arguments for other personal details like address, phone number, and email.\n",
    "Example Output:\n",
    "\n",
    "- Name: Alice\n",
    "- Age: 30\n",
    "- Other Details:\n",
    "    - address: 123 Main St\n",
    "    - phone: 123-456-7890\n",
    "    - email: alice@example.com"
   ]
  },
  {
   "cell_type": "code",
   "execution_count": 12,
   "id": "a8e2d77a-15ba-4105-9e7b-c7cb6c819310",
   "metadata": {},
   "outputs": [
    {
     "name": "stdout",
     "output_type": "stream",
     "text": [
      "('Alice', 30)\n",
      "Other Details {'address': '123 Main St', 'phone': '123-456-7890', 'email': 'alice@example.com'}\n"
     ]
    }
   ],
   "source": [
    "def display_info(*args,**kwargs):\n",
    "    print(args)\n",
    "    print('Other Details', kwargs)\n",
    "\n",
    "display_info('Alice',30,address='123 Main St',phone='123-456-7890',email='alice@example.com')"
   ]
  },
  {
   "cell_type": "markdown",
   "id": "bdbfd749-11e9-46f5-ab44-624a2799b5ab",
   "metadata": {},
   "source": [
    "8. products = [ {\"name\": \"Laptop\", \"price\": 1200, \"in_stock\": True, \"discount\": 0.1}, {\"name\": \"Smartphone\", \"price\": 800, \"in_stock\": False, \"discount\": 0.05}, {\"name\": \"Headphones\", \"price\": 150, \"in_stock\": True, \"discount\": 0.2}, {\"name\": \"Smartwatch\", \"price\": 300, \"in_stock\": True, \"discount\": 0}, {\"name\": \"Keyboard\", \"price\": 100, \"in_stock\": True, \"discount\": 0.15} ]\n",
    "\n",
    "- Get names of in-stock products:\n",
    "\n",
    "*Use list comprehension to generate a list of names for the products that are in stock.\n",
    "\n",
    "- Calculate final prices for in-stock products after discount:\n",
    "\n",
    "*For products that have a discount, calculate the final price by applying the discount.\n",
    "\n",
    "*For products with no discount, keep the original price.\n",
    "\n",
    "- Generate a list of tuples with the product name and its final price.\n",
    "\n",
    "Example Output:\n",
    "\n",
    "- In-stock product names: ['Laptop', 'Headphones', 'Smartwatch', 'Keyboard']\n",
    "- Discounted prices: [('Laptop', 1080.0), ('Headphones', 120.0), ('Smartwatch', 300), ('Keyboard', 85.0)]"
   ]
  },
  {
   "cell_type": "code",
   "execution_count": 5,
   "id": "d7b0dd39-7839-47b3-8586-f9c95a80fecc",
   "metadata": {},
   "outputs": [
    {
     "data": {
      "text/plain": [
       "[{'name': 'Laptop', 'price': 1200, 'in_stock': True, 'discount': 0.1},\n",
       " {'name': 'Smartphone', 'price': 800, 'in_stock': False, 'discount': 0.05},\n",
       " {'name': 'Headphones', 'price': 150, 'in_stock': True, 'discount': 0.2},\n",
       " {'name': 'Smartwatch', 'price': 300, 'in_stock': True, 'discount': 0},\n",
       " {'name': 'Keyboard', 'price': 100, 'in_stock': True, 'discount': 0.15}]"
      ]
     },
     "execution_count": 5,
     "metadata": {},
     "output_type": "execute_result"
    }
   ],
   "source": [
    "products = [ {\"name\": \"Laptop\", \"price\": 1200, \"in_stock\": True, \"discount\": 0.1}, {\"name\": \"Smartphone\", \"price\": 800, \"in_stock\": False, \"discount\": 0.05}, {\"name\": \"Headphones\", \"price\": 150, \"in_stock\": True, \"discount\": 0.2}, {\"name\": \"Smartwatch\", \"price\": 300, \"in_stock\": True, \"discount\": 0}, {\"name\": \"Keyboard\", \"price\": 100, \"in_stock\": True, \"discount\": 0.15} ]\n",
    "products"
   ]
  },
  {
   "cell_type": "code",
   "execution_count": 40,
   "id": "b9ebc467-cedf-4600-9a8d-e00fab9baf58",
   "metadata": {},
   "outputs": [
    {
     "name": "stdout",
     "output_type": "stream",
     "text": [
      "Laptop\n",
      "Headphones\n",
      "Smartwatch\n",
      "Keyboard\n"
     ]
    }
   ],
   "source": [
    "#No:1\n",
    "for product in products:\n",
    "    if product['in_stock']==True:\n",
    "        print(product['name'])\n",
    "       "
   ]
  },
  {
   "cell_type": "code",
   "execution_count": 15,
   "id": "baecb624-7abd-4208-a82d-379ac66bfc05",
   "metadata": {},
   "outputs": [
    {
     "name": "stdout",
     "output_type": "stream",
     "text": [
      "Laptop: Final price after discount is 1080.0\n",
      "Smartphone: Final price after discount is 760.0\n",
      "Headphones: Final price after discount is 120.0\n",
      "Smartwatch: Price with no discount is 300\n",
      "Keyboard: Final price after discount is 85.0\n"
     ]
    }
   ],
   "source": [
    "#No:2\n",
    "for product in products:\n",
    "      if product['discount']!=0:\n",
    "          final_price= product['price']-(product['price']*product['discount'])\n",
    "          print(f\"{product['name']}: Final price after discount is {final_price}\")\n",
    "      else:\n",
    "          print(f\"{product['name']}: Price with no discount is {product['price']}\")\n",
    "            \n",
    "    \n",
    "        \n",
    "           "
   ]
  },
  {
   "cell_type": "code",
   "execution_count": null,
   "id": "a8fced33-adaa-4535-94fe-567879c4390c",
   "metadata": {},
   "outputs": [],
   "source": []
  },
  {
   "cell_type": "code",
   "execution_count": null,
   "id": "c79c6bd8-e98d-4447-9e4b-46980950e540",
   "metadata": {},
   "outputs": [],
   "source": []
  },
  {
   "cell_type": "markdown",
   "id": "82c385f9-3462-4bd5-9932-6494ba7f4ea4",
   "metadata": {},
   "source": [
    "9.Create a list of even numbers between 1 and 20. (List Comprehension)"
   ]
  },
  {
   "cell_type": "code",
   "execution_count": 66,
   "id": "a6847c6b-3fb0-4667-9840-434ee5d17938",
   "metadata": {},
   "outputs": [
    {
     "data": {
      "text/plain": [
       "[1, 2, 3, 4, 5, 6, 7, 8, 9, 10, 11, 12, 13, 14, 15, 16, 17, 18, 19, 20]"
      ]
     },
     "execution_count": 66,
     "metadata": {},
     "output_type": "execute_result"
    }
   ],
   "source": [
    "Numbers=[1,2,3,4,5,6,7,8,9,10,11,12,13,14,15,16,17,18,19,20]\n",
    "Numbers"
   ]
  },
  {
   "cell_type": "code",
   "execution_count": 16,
   "id": "13911a67-0442-4f7c-a94d-1d3eb4d626a1",
   "metadata": {},
   "outputs": [
    {
     "name": "stdout",
     "output_type": "stream",
     "text": [
      "[2, 4, 6, 8, 10, 12, 14, 16, 18, 20]\n"
     ]
    }
   ],
   "source": [
    "Numbers = [1,2,3,4,5,6,7,8,9,10,11,12,13,14,15,16,17,18,19,20]\n",
    "Even_Numbers = [num for num in Numbers if num % 2 == 0]\n",
    "print(Even_Numbers)"
   ]
  },
  {
   "cell_type": "raw",
   "id": "eb29662f-e97a-4a90-8345-0ad95ef48028",
   "metadata": {},
   "source": []
  },
  {
   "cell_type": "raw",
   "id": "41807957-c597-4957-9b0c-388082428be0",
   "metadata": {},
   "source": [
    "10. Create a list of numbers, generate a new list containing only the numbers that are divisible by 3 or 5. (List Comprehension)"
   ]
  },
  {
   "cell_type": "code",
   "execution_count": 17,
   "id": "5e718eae-455d-4f65-a4d6-8135017d5818",
   "metadata": {},
   "outputs": [
    {
     "data": {
      "text/plain": [
       "[1, 2, 3, 4, 5, 6, 7, 8, 9, 10, 11, 12, 13, 14, 15, 16, 17, 18, 19, 20]"
      ]
     },
     "execution_count": 17,
     "metadata": {},
     "output_type": "execute_result"
    }
   ],
   "source": [
    "numbers = [1, 2, 3, 4, 5, 6, 7, 8, 9, 10, 11, 12, 13, 14, 15, 16, 17, 18, 19, 20]\n",
    "numbers"
   ]
  },
  {
   "cell_type": "code",
   "execution_count": 18,
   "id": "3a95f630-253c-4f3d-86d3-360a77558148",
   "metadata": {},
   "outputs": [
    {
     "name": "stdout",
     "output_type": "stream",
     "text": [
      "[3, 5, 6, 9, 10, 12, 15, 18, 20]\n"
     ]
    }
   ],
   "source": [
    "div_by_3_or_5 = [num for num in numbers if num % 3 == 0 or num % 5 == 0]\n",
    "print(div_by_3_or_5)"
   ]
  },
  {
   "cell_type": "code",
   "execution_count": null,
   "id": "aca15df4-ae3e-4f78-8910-8ecdfe9423d5",
   "metadata": {},
   "outputs": [],
   "source": []
  },
  {
   "cell_type": "code",
   "execution_count": null,
   "id": "758871f9-c855-483c-9442-5779500e712d",
   "metadata": {},
   "outputs": [],
   "source": []
  }
 ],
 "metadata": {
  "kernelspec": {
   "display_name": "Python 3 (ipykernel)",
   "language": "python",
   "name": "python3"
  },
  "language_info": {
   "codemirror_mode": {
    "name": "ipython",
    "version": 3
   },
   "file_extension": ".py",
   "mimetype": "text/x-python",
   "name": "python",
   "nbconvert_exporter": "python",
   "pygments_lexer": "ipython3",
   "version": "3.12.7"
  }
 },
 "nbformat": 4,
 "nbformat_minor": 5
}
