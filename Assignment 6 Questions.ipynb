{
 "cells": [
  {
   "cell_type": "markdown",
   "id": "d87ac2e7-8041-48c6-aa52-47ddd2cb0330",
   "metadata": {
    "id": "d87ac2e7-8041-48c6-aa52-47ddd2cb0330"
   },
   "source": [
    "1. Question:\n",
    "\n",
    "Imagine a scenario where we have two classes:\n",
    "\n",
    "Person: Represents a person with attributes like name and age, and a method introduce() to introduce the person.\n",
    "\n",
    "Employee: Represents an employee with attributes like employee_id and department, and a method work() to describe the work of the employee.\n",
    "\n",
    "Create a child class Manager that inherits from both Person and Employee. The Manager class should have a method manage() that describes the work the manager does. Instantiate a Manager object and call all methods (introduce(), work(), and manage()).\n",
    "\n",
    "Expected Output:\n",
    "\n",
    "- Hello, my name is John and I am 35 years old.\n",
    "- Employee M123 is working in HR department.\n",
    "- Manager John is managing the team in the HR department.\n"
   ]
  },
  {
   "cell_type": "code",
   "execution_count": 1,
   "id": "6ea4096f-504b-4531-88e0-807752169fbb",
   "metadata": {},
   "outputs": [
    {
     "name": "stdout",
     "output_type": "stream",
     "text": [
      "Hello my name is John and I am 35 years old\n",
      "Employee M123 is working in HR department\n",
      "Manager John is managing the team in the HR department\n"
     ]
    }
   ],
   "source": [
    "class Person:   \n",
    "    def __init__(self,name,age):\n",
    "        self.name = name\n",
    "        self.age = age\n",
    "\n",
    "    def introduce(self):\n",
    "        print(f'Hello my name is {self.name} and I am {self.age} years old')\n",
    "class Employee:\n",
    "    def __init__(self, employee_id, department):\n",
    "        self.employee_id = employee_id\n",
    "        self.department = department\n",
    "        \n",
    "    def work(self):\n",
    "        print(f'Employee {self.employee_id} is working in {self.department} department')\n",
    "            \n",
    "class Manager(Person, Employee):  \n",
    "    def __init__(self,name,age,Employee_id,department):\n",
    "        Person.__init__(self, name, age)\n",
    "        Employee.__init__(self, Employee_id, department)\n",
    "        \n",
    "    def manage(self):\n",
    "        print(f'Manager {self.name} is managing the team in the {self.department} department')\n",
    "\n",
    "\n",
    "manager = Manager(\"John\", 35, \"M123\", \"HR\")\n",
    "\n",
    "# Call all methods\n",
    "manager.introduce()\n",
    "manager.work()\n",
    "manager.manage()\n",
    "        \n"
   ]
  },
  {
   "cell_type": "markdown",
   "id": "4a896d59-313a-41eb-8f81-cb1af3dfb8f1",
   "metadata": {
    "id": "4a896d59-313a-41eb-8f81-cb1af3dfb8f1"
   },
   "source": [
    "2. Create a class Greeting with a method greet() that can handle different numbers of arguments.\n",
    "\n",
    "- If no argument is passed, it should print \"Hello!\".\n",
    "- If one argument (a name) is passed, it should print \"Hello, <name>!\".\n",
    "- If two arguments (a name and a greeting) are passed, it should print the greeting with the name (e.g., \"Good morning, <name>!\").\n",
    "\n",
    "Simulate method overloading using default arguments or variable-length arguments, and demonstrate the polymorphic behavior by calling greet() with different numbers of arguments.\n",
    "\n",
    "Expected Output:\n",
    "\n",
    "- Hello!\n",
    "- Hello, John!\n",
    "- Good morning, John!\n"
   ]
  },
  {
   "cell_type": "code",
   "execution_count": 3,
   "id": "b3ef332b-6360-4516-94d1-52e8c09bb902",
   "metadata": {},
   "outputs": [
    {
     "name": "stdout",
     "output_type": "stream",
     "text": [
      "Hello!\n",
      "hello, John!\n",
      "Good morning,John!\n"
     ]
    }
   ],
   "source": [
    "class Greeting:\n",
    "    def greet(self, *args):\n",
    "        if len(args) == 0:\n",
    "            print(\"Hello!\")\n",
    "        elif len(args) == 1:\n",
    "            print(f'hello, {args[0]}!')\n",
    "        elif len(args) == 2:\n",
    "            print(f'{args[1]},{args[0]}!')\n",
    "        else:\n",
    "            print()\n",
    "\n",
    "g = Greeting()\n",
    "g.greet()                   \n",
    "g.greet(\"John\")              \n",
    "g.greet(\"John\", \"Good morning\")  \n",
    "        "
   ]
  },
  {
   "cell_type": "markdown",
   "id": "f1a4787e-750f-4ad1-b4ba-75ec1bb81e3e",
   "metadata": {
    "id": "f1a4787e-750f-4ad1-b4ba-75ec1bb81e3e"
   },
   "source": [
    "3. Create a class SecuritySystem to manage a Security PIN. The class should have:\n",
    "\n",
    "- A private attribute __pin to store the PIN.\n",
    "- A method validate_pin(pin) that checks if the input PIN matches the stored one.\n",
    "- A method change_pin(old_pin, new_pin) to allow the user to change their PIN. The method should:\n",
    "    - Ensure the old PIN is correct.\n",
    "    - Ensure the new PIN is a 4-digit number.\n",
    "\n",
    "Demonstrate the following:\n",
    "\n",
    "- Validate the PIN.\n",
    "- Change the PIN with correct and incorrect old PINs, and valid/invalid new PINs.\n",
    "\n",
    "Expected Output:\n",
    "\n",
    "- PIN validated successfully.\n",
    "- Invalid PIN.\n",
    "- PIN changed successfully.\n",
    "- New PIN must be a 4-digit number.\n",
    "- Incorrect old PIN. PIN not changed.\n"
   ]
  },
  {
   "cell_type": "code",
   "execution_count": 7,
   "id": "a5446228-f5e3-4f3a-863b-11ba57fab03d",
   "metadata": {},
   "outputs": [
    {
     "name": "stdout",
     "output_type": "stream",
     "text": [
      "PIN Validated Successfully!\n",
      "Invalid PIN!\n",
      "PIN changed successfullly!\n",
      "New PIN must be a 4-digit number.\n",
      "Incorrect old PIN. PIN not changed\n"
     ]
    }
   ],
   "source": [
    "class SecuritySystem:\n",
    "    def __init__(self, pin):\n",
    "        self.__pin = pin\n",
    "    def validate_pin(self, pin):\n",
    "        if pin == self.__pin:\n",
    "            print(\"PIN Validated Successfully!\")\n",
    "        else:\n",
    "            print(\"Invalid PIN!\")\n",
    "    def change_pin(self, old_pin, new_pin):\n",
    "        if old_pin != self.__pin:\n",
    "            print(\"Incorrect old PIN. PIN not changed\")\n",
    "            return\n",
    "        if new_pin >= 1000 and new_pin <= 9999:\n",
    "            self.__pin = new_pin\n",
    "            print(\"PIN changed successfullly!\")\n",
    "        else:\n",
    "              print(\"New PIN must be a 4-digit number.\")\n",
    "\n",
    "# Demonstration\n",
    "security = SecuritySystem(1234)\n",
    "\n",
    "# Test 1: Validate with correct PIN\n",
    "security.validate_pin(1234)\n",
    "\n",
    "# Test 2: Validate with incorrect PIN\n",
    "security.validate_pin(4321)\n",
    "\n",
    "# Test 3: Change PIN with correct old PIN and valid new PIN\n",
    "security.change_pin(1234, 5678)\n",
    "\n",
    "# Test 4: Change PIN with valid old PIN but invalid new PIN\n",
    "security.change_pin(5678, 123)  # Not 4-digit\n",
    "\n",
    "# Test 5: Change PIN with incorrect old PIN\n",
    "security.change_pin(1111, 9999)\n",
    "            \n",
    "        "
   ]
  },
  {
   "cell_type": "code",
   "execution_count": null,
   "id": "5153f861-9408-461d-954a-9be8eaa9dfbc",
   "metadata": {},
   "outputs": [],
   "source": []
  },
  {
   "cell_type": "raw",
   "id": "03c4ae3e-bb59-4ae8-8882-97a1d1436068",
   "metadata": {
    "id": "1c70c9fc-177c-4f0a-a63a-31725e52a6e8"
   },
   "source": [
    "4. Use abstraction to model different geometric shapes such as circle and rectangle.\n",
    "\n",
    "Instructions:\n",
    "\n",
    "- Create an abstract class Shape with a method area to calculate the area.\n",
    "- Create concrete classes Circle and Rectangle that implement the area method.\n",
    "- Create instances of these shapes and calculate their areas.\n",
    "\n",
    "Expected Output:\n",
    "\n",
    "- Area of Circle: 78.5\n",
    "- Area of Rectangle: 24\n"
   ]
  },
  {
   "cell_type": "code",
   "execution_count": 14,
   "id": "fb0e0b92-b3bb-45bb-9328-75edcac2b3e4",
   "metadata": {},
   "outputs": [
    {
     "name": "stdout",
     "output_type": "stream",
     "text": [
      "Area of Circle: 78.5\n",
      "Area of Rectangle: 24\n"
     ]
    }
   ],
   "source": [
    "from abc import ABC, abstractmethod\n",
    "import math\n",
    "\n",
    "# Abstract class\n",
    "class Shape(ABC):\n",
    "    # Abstract method for area\n",
    "    @abstractmethod\n",
    "    def area(self):\n",
    "        pass\n",
    "\n",
    "# Concrete class Circle\n",
    "class Circle(Shape):\n",
    "    def __init__(self, radius):\n",
    "        self.radius = radius\n",
    "\n",
    "    def area(self):\n",
    "        return round(math.pi * self.radius ** 2, 1)\n",
    "\n",
    "# Concrete class Rectangle\n",
    "class Rectangle(Shape):\n",
    "    def __init__(self, length, width):\n",
    "        self.length = length\n",
    "        self.width = width\n",
    "\n",
    "    def area(self):\n",
    "        return self.length * self.width\n",
    "\n",
    "# Create instances\n",
    "circle = Circle(5)            # Radius = 5\n",
    "rectangle = Rectangle(6, 4)   # Length = 6, Width = 4\n",
    "\n",
    "# Calculate and display areas\n",
    "print(\"Area of Circle:\", circle.area())\n",
    "print(\"Area of Rectangle:\", rectangle.area())\n"
   ]
  },
  {
   "cell_type": "code",
   "execution_count": null,
   "id": "a6a5c038-dbc1-4a3a-88db-13c6a16c1272",
   "metadata": {},
   "outputs": [],
   "source": []
  },
  {
   "cell_type": "markdown",
   "id": "70a07851-af81-4e26-a9d1-94c92ffa0d6b",
   "metadata": {
    "id": "70a07851-af81-4e26-a9d1-94c92ffa0d6b"
   },
   "source": [
    "5. Create a class Notification with a method send(), which prints \"Sending notification\".\n",
    "Then, create two subclasses:\n",
    "\n",
    "EmailNotification: Override the send() method to print \"Sending email\".\n",
    "\n",
    "SMSNotification: Override the send() method to print \"Sending SMS\".\n",
    "\n",
    "Demonstrate method overriding calling send() on instances of EmailNotification and SMSNotification."
   ]
  },
  {
   "cell_type": "code",
   "execution_count": 4,
   "id": "6cb0b28a-70d0-4fd3-8f4b-26031db6d669",
   "metadata": {
    "id": "6cb0b28a-70d0-4fd3-8f4b-26031db6d669"
   },
   "outputs": [
    {
     "name": "stdout",
     "output_type": "stream",
     "text": [
      "Sending Email\n",
      "Sending SMS\n"
     ]
    }
   ],
   "source": [
    "class Notification:\n",
    "    def send(self):\n",
    "        print(\"Sending notification\")\n",
    "class EmailNotification:\n",
    "    def send(Notification):\n",
    "        print(\"Sending Email\")\n",
    "class SMSNotification:\n",
    "    def send(Notification):\n",
    "        print(\"Sending SMS\")\n",
    "\n",
    "\n",
    "email = EmailNotification()\n",
    "sms = SMSNotification()\n",
    "\n",
    "email.send()  \n",
    "sms.send()    \n",
    "        "
   ]
  },
  {
   "cell_type": "code",
   "execution_count": null,
   "id": "bf81268f-9e48-4542-abf6-8ddcc75d285d",
   "metadata": {},
   "outputs": [],
   "source": []
  }
 ],
 "metadata": {
  "colab": {
   "provenance": []
  },
  "kernelspec": {
   "display_name": "Python 3 (ipykernel)",
   "language": "python",
   "name": "python3"
  },
  "language_info": {
   "codemirror_mode": {
    "name": "ipython",
    "version": 3
   },
   "file_extension": ".py",
   "mimetype": "text/x-python",
   "name": "python",
   "nbconvert_exporter": "python",
   "pygments_lexer": "ipython3",
   "version": "3.12.7"
  }
 },
 "nbformat": 4,
 "nbformat_minor": 5
}
