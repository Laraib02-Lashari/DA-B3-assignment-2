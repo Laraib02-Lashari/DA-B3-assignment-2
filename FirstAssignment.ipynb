{
 "cells": [
  {
   "cell_type": "markdown",
   "id": "d58913d1-aab6-4668-a9ef-eedb3602dac7",
   "metadata": {},
   "source": [
    "# Assignment No 1"
   ]
  },
  {
   "cell_type": "markdown",
   "id": "7436540c-8658-4478-a298-c734860db4e5",
   "metadata": {},
   "source": [
    "## Answer No: 1"
   ]
  },
  {
   "cell_type": "code",
   "execution_count": 2,
   "id": "b5664b01-a72a-47c7-aa9a-017a1b90aa89",
   "metadata": {},
   "outputs": [
    {
     "data": {
      "text/plain": [
       "'hello python world'"
      ]
     },
     "execution_count": 2,
     "metadata": {},
     "output_type": "execute_result"
    }
   ],
   "source": [
    "text = 'hello python world'\n",
    "text"
   ]
  },
  {
   "cell_type": "code",
   "execution_count": 3,
   "id": "470b2e8a-c1e1-4f21-9dcb-bed9f4cf1b3d",
   "metadata": {},
   "outputs": [
    {
     "data": {
      "text/plain": [
       "'hello_python_world'"
      ]
     },
     "execution_count": 3,
     "metadata": {},
     "output_type": "execute_result"
    }
   ],
   "source": [
    "text.replace(' ', '_')"
   ]
  },
  {
   "cell_type": "code",
   "execution_count": 4,
   "id": "3cab9a99-c0cc-4b55-922e-21ff9fb506b1",
   "metadata": {},
   "outputs": [
    {
     "data": {
      "text/plain": [
       "'hello_python_world'"
      ]
     },
     "execution_count": 4,
     "metadata": {},
     "output_type": "execute_result"
    }
   ],
   "source": [
    "text1= 'hello_python_world'\n",
    "text1"
   ]
  },
  {
   "cell_type": "code",
   "execution_count": 5,
   "id": "696f0a45-74b9-4009-bbfa-4861ae153c0a",
   "metadata": {},
   "outputs": [
    {
     "name": "stdout",
     "output_type": "stream",
     "text": [
      "['hello', 'python', 'world']\n"
     ]
    }
   ],
   "source": [
    "print (text1.split('_'))"
   ]
  },
  {
   "cell_type": "code",
   "execution_count": 7,
   "id": "06a3ed08-52ed-4281-be42-003b4ac10525",
   "metadata": {},
   "outputs": [
    {
     "data": {
      "text/plain": [
       "['hello', 'python', 'world']"
      ]
     },
     "execution_count": 7,
     "metadata": {},
     "output_type": "execute_result"
    }
   ],
   "source": [
    "text2= ['hello', 'python', 'world']\n",
    "text2"
   ]
  },
  {
   "cell_type": "code",
   "execution_count": 8,
   "id": "1db9f866-eea5-451d-aa5c-f56afbd72b95",
   "metadata": {},
   "outputs": [
    {
     "name": "stdout",
     "output_type": "stream",
     "text": [
      "hello-python-world\n"
     ]
    }
   ],
   "source": [
    "print ('-'.join(text2))"
   ]
  },
  {
   "cell_type": "markdown",
   "id": "3d37c517-4f6e-44f3-b999-60af6240b748",
   "metadata": {},
   "source": [
    "## Answer No: 2"
   ]
  },
  {
   "cell_type": "code",
   "execution_count": 9,
   "id": "4956636f-7354-4ce0-98c5-f5df41840b69",
   "metadata": {},
   "outputs": [
    {
     "data": {
      "text/plain": [
       "'Javascript'"
      ]
     },
     "execution_count": 9,
     "metadata": {},
     "output_type": "execute_result"
    }
   ],
   "source": [
    "word = \"Javascript\"\n",
    "word\n"
   ]
  },
  {
   "cell_type": "code",
   "execution_count": 10,
   "id": "118aeed3-6ad0-4b34-9070-b2567a4cf9bb",
   "metadata": {},
   "outputs": [
    {
     "data": {
      "text/plain": [
       "10"
      ]
     },
     "execution_count": 10,
     "metadata": {},
     "output_type": "execute_result"
    }
   ],
   "source": [
    "len(word)"
   ]
  },
  {
   "cell_type": "code",
   "execution_count": 11,
   "id": "76d06066-a91e-4a4d-ae45-8936bb82f9ae",
   "metadata": {},
   "outputs": [
    {
     "data": {
      "text/plain": [
       "True"
      ]
     },
     "execution_count": 11,
     "metadata": {},
     "output_type": "execute_result"
    }
   ],
   "source": [
    "len(word) > 5"
   ]
  },
  {
   "cell_type": "markdown",
   "id": "012e3296-c14b-4be3-98ca-7c48776014f3",
   "metadata": {},
   "source": [
    "## Answer No 3"
   ]
  },
  {
   "cell_type": "code",
   "execution_count": 12,
   "id": "3c431ffc-4dfe-4569-aeb7-f3fe25d65a1c",
   "metadata": {},
   "outputs": [
    {
     "data": {
      "text/plain": [
       "12"
      ]
     },
     "execution_count": 12,
     "metadata": {},
     "output_type": "execute_result"
    }
   ],
   "source": [
    "num2 = 12\n",
    "num2"
   ]
  },
  {
   "cell_type": "code",
   "execution_count": 13,
   "id": "21c7eb0a-c6c0-483d-b337-d51d4ddc12a7",
   "metadata": {},
   "outputs": [
    {
     "data": {
      "text/plain": [
       "True"
      ]
     },
     "execution_count": 13,
     "metadata": {},
     "output_type": "execute_result"
    }
   ],
   "source": [
    "num2 % 2 == 0"
   ]
  },
  {
   "cell_type": "code",
   "execution_count": 14,
   "id": "fe158542-4e59-4180-9dff-591239837a13",
   "metadata": {},
   "outputs": [
    {
     "data": {
      "text/plain": [
       "True"
      ]
     },
     "execution_count": 14,
     "metadata": {},
     "output_type": "execute_result"
    }
   ],
   "source": [
    "num2 > 10"
   ]
  },
  {
   "cell_type": "code",
   "execution_count": 15,
   "id": "56a50dc6-1f90-4614-8c2e-6c492c665a5a",
   "metadata": {},
   "outputs": [
    {
     "data": {
      "text/plain": [
       "True"
      ]
     },
     "execution_count": 15,
     "metadata": {},
     "output_type": "execute_result"
    }
   ],
   "source": [
    "(num2 % 2 == 0) and (num2 > 10)"
   ]
  },
  {
   "cell_type": "markdown",
   "id": "8f166bb3-7714-48a0-9a2c-a854a7b00c8b",
   "metadata": {},
   "source": [
    "## Answer No: 4"
   ]
  },
  {
   "cell_type": "code",
   "execution_count": 16,
   "id": "df62e8b1-4c1c-47b0-93fb-d1b0d3d73350",
   "metadata": {},
   "outputs": [
    {
     "data": {
      "text/plain": [
       "3"
      ]
     },
     "execution_count": 16,
     "metadata": {},
     "output_type": "execute_result"
    }
   ],
   "source": [
    "num3 = 3\n",
    "num3"
   ]
  },
  {
   "cell_type": "code",
   "execution_count": 17,
   "id": "148d4cba-32a4-4cfb-a754-ea76b120b96b",
   "metadata": {},
   "outputs": [
    {
     "data": {
      "text/plain": [
       "True"
      ]
     },
     "execution_count": 17,
     "metadata": {},
     "output_type": "execute_result"
    }
   ],
   "source": [
    "(num3 < 5)"
   ]
  },
  {
   "cell_type": "code",
   "execution_count": 18,
   "id": "596d5c2b-bbed-4f07-ba23-d74328f2c1a1",
   "metadata": {},
   "outputs": [
    {
     "data": {
      "text/plain": [
       "False"
      ]
     },
     "execution_count": 18,
     "metadata": {},
     "output_type": "execute_result"
    }
   ],
   "source": [
    "(num3 > 20)"
   ]
  },
  {
   "cell_type": "code",
   "execution_count": 19,
   "id": "c6cd6a9a-14ef-45a2-b632-7aca1801406c",
   "metadata": {},
   "outputs": [
    {
     "data": {
      "text/plain": [
       "True"
      ]
     },
     "execution_count": 19,
     "metadata": {},
     "output_type": "execute_result"
    }
   ],
   "source": [
    "(num3 < 5) or (num3 > 20)"
   ]
  },
  {
   "cell_type": "markdown",
   "id": "4c8bb3dd-178e-4e95-8da7-413ce8d712b6",
   "metadata": {},
   "source": [
    "## Answer No: 5"
   ]
  },
  {
   "cell_type": "code",
   "execution_count": 20,
   "id": "fd5da91c-f346-4f57-a39b-89f9e8917542",
   "metadata": {},
   "outputs": [
    {
     "data": {
      "text/plain": [
       "25"
      ]
     },
     "execution_count": 20,
     "metadata": {},
     "output_type": "execute_result"
    }
   ],
   "source": [
    "age = 25\n",
    "age"
   ]
  },
  {
   "cell_type": "code",
   "execution_count": 21,
   "id": "26f84456-5cbb-4183-aa40-fd66cf59da4c",
   "metadata": {},
   "outputs": [
    {
     "data": {
      "text/plain": [
       "True"
      ]
     },
     "execution_count": 21,
     "metadata": {},
     "output_type": "execute_result"
    }
   ],
   "source": [
    "(age >= 18) and (age <= 65)"
   ]
  },
  {
   "cell_type": "code",
   "execution_count": 22,
   "id": "d751836a-75ab-48ce-a4bb-b6b563a46387",
   "metadata": {},
   "outputs": [
    {
     "data": {
      "text/plain": [
       "True"
      ]
     },
     "execution_count": 22,
     "metadata": {},
     "output_type": "execute_result"
    }
   ],
   "source": [
    "18 <= age <= 65"
   ]
  },
  {
   "cell_type": "markdown",
   "id": "05e2cee6-c6ec-49a7-be42-9ec0ace3e5a6",
   "metadata": {},
   "source": [
    "## Answer No 6"
   ]
  },
  {
   "cell_type": "code",
   "execution_count": 23,
   "id": "646f6b02-dd90-401b-ac8f-1ed254ceadee",
   "metadata": {},
   "outputs": [
    {
     "data": {
      "text/plain": [
       "'https://www.example.com'"
      ]
     },
     "execution_count": 23,
     "metadata": {},
     "output_type": "execute_result"
    }
   ],
   "source": [
    "url = \"https://www.example.com\"\n",
    "url"
   ]
  },
  {
   "cell_type": "code",
   "execution_count": 24,
   "id": "9811a6b7-1768-4db8-8f7e-3a29a9983a26",
   "metadata": {},
   "outputs": [
    {
     "data": {
      "text/plain": [
       "False"
      ]
     },
     "execution_count": 24,
     "metadata": {},
     "output_type": "execute_result"
    }
   ],
   "source": [
    "url.startswith('http://')"
   ]
  },
  {
   "cell_type": "code",
   "execution_count": 25,
   "id": "563a3880-9fa1-4251-8cf9-6d45a920d1fc",
   "metadata": {},
   "outputs": [
    {
     "data": {
      "text/plain": [
       "True"
      ]
     },
     "execution_count": 25,
     "metadata": {},
     "output_type": "execute_result"
    }
   ],
   "source": [
    "url.startswith('https://')"
   ]
  },
  {
   "cell_type": "markdown",
   "id": "1e296a70-0aff-4649-ac40-5a4f51fdefa4",
   "metadata": {},
   "source": [
    " ## Answer No: 7"
   ]
  },
  {
   "cell_type": "code",
   "execution_count": 26,
   "id": "30157b37-5ee8-4d5e-9850-ad71e5536ebc",
   "metadata": {},
   "outputs": [
    {
     "data": {
      "text/plain": [
       "100"
      ]
     },
     "execution_count": 26,
     "metadata": {},
     "output_type": "execute_result"
    }
   ],
   "source": [
    "price = 100\n",
    "price"
   ]
  },
  {
   "cell_type": "code",
   "execution_count": 27,
   "id": "00b414c3-feb0-4e40-a8f6-88b68574cb7b",
   "metadata": {},
   "outputs": [],
   "source": [
    "discount= 10/100"
   ]
  },
  {
   "cell_type": "code",
   "execution_count": 28,
   "id": "1fda1dbd-055a-44fa-8377-ae09d0811b66",
   "metadata": {},
   "outputs": [
    {
     "data": {
      "text/plain": [
       "90.0"
      ]
     },
     "execution_count": 28,
     "metadata": {},
     "output_type": "execute_result"
    }
   ],
   "source": [
    "price * (1 - discount)"
   ]
  },
  {
   "cell_type": "markdown",
   "id": "bda1bd7f-49fa-428e-94d8-924da9fabb3f",
   "metadata": {},
   "source": [
    "## Answer No: 8"
   ]
  },
  {
   "cell_type": "code",
   "execution_count": 29,
   "id": "8d8f5c61-e9fc-4906-86ef-373319dee615",
   "metadata": {},
   "outputs": [
    {
     "data": {
      "text/plain": [
       "['alice@example.com', 'charlie@example.com', 'bob@example.com']"
      ]
     },
     "execution_count": 29,
     "metadata": {},
     "output_type": "execute_result"
    }
   ],
   "source": [
    "premium_customers = [\"alice@example.com\", \"charlie@example.com\", \"bob@example.com\"]\n",
    "premium_customers"
   ]
  },
  {
   "cell_type": "code",
   "execution_count": 30,
   "id": "4ae26225-7f9c-4929-8b59-2b50ad7cae7c",
   "metadata": {},
   "outputs": [
    {
     "data": {
      "text/plain": [
       "['alex@example.com', 'david@example.com', 'chloe@example.com']"
      ]
     },
     "execution_count": 30,
     "metadata": {},
     "output_type": "execute_result"
    }
   ],
   "source": [
    "basic_customers = [\"alex@example.com\", \"david@example.com\", \"chloe@example.com\"]\n",
    "basic_customers"
   ]
  },
  {
   "cell_type": "code",
   "execution_count": 31,
   "id": "5621d1a5-c629-4697-a82e-b26f1e14650e",
   "metadata": {},
   "outputs": [
    {
     "data": {
      "text/plain": [
       "False"
      ]
     },
     "execution_count": 31,
     "metadata": {},
     "output_type": "execute_result"
    }
   ],
   "source": [
    "('alice@example.com' in premium_customers ) and ('alice@example.com' in basic_customers )"
   ]
  },
  {
   "cell_type": "markdown",
   "id": "59969150-60c9-4fd7-b227-e894e18dfe7b",
   "metadata": {},
   "source": [
    "## Answer No: 9"
   ]
  },
  {
   "cell_type": "code",
   "execution_count": 32,
   "id": "3049cf70-abb3-4323-976b-70e3a1f62d56",
   "metadata": {},
   "outputs": [
    {
     "name": "stdin",
     "output_type": "stream",
     "text": [
      "Enter your password:  Laraib Basit\n"
     ]
    },
    {
     "data": {
      "text/plain": [
       "False"
      ]
     },
     "execution_count": 32,
     "metadata": {},
     "output_type": "execute_result"
    }
   ],
   "source": [
    "password = input(\"Enter your password: \")\n",
    "upper= password.upper() != password\n",
    "lower= password.lower() != password\n",
    "space = \" \" in password\n",
    "valid = upper and lower and not space\n",
    "valid"
   ]
  },
  {
   "cell_type": "markdown",
   "id": "d676f903-cc14-4d62-b694-45c1cbca5e0c",
   "metadata": {},
   "source": [
    "## Answer No: 10"
   ]
  },
  {
   "cell_type": "code",
   "execution_count": 33,
   "id": "270e837e-9c0b-48da-8e92-24087d4cf04a",
   "metadata": {},
   "outputs": [
    {
     "data": {
      "text/plain": [
       "'SKU-12345-XYZ'"
      ]
     },
     "execution_count": 33,
     "metadata": {},
     "output_type": "execute_result"
    }
   ],
   "source": [
    "product_code= \"SKU-12345-XYZ\"\n",
    "product_code"
   ]
  },
  {
   "cell_type": "code",
   "execution_count": 34,
   "id": "9419fe17-db37-4abd-bdce-586236b83af4",
   "metadata": {},
   "outputs": [
    {
     "data": {
      "text/plain": [
       "3"
      ]
     },
     "execution_count": 34,
     "metadata": {},
     "output_type": "execute_result"
    }
   ],
   "source": [
    "product_code.find('-')"
   ]
  },
  {
   "cell_type": "code",
   "execution_count": 35,
   "id": "c4038def-6bd3-4a6f-a91f-04e5c6539aff",
   "metadata": {},
   "outputs": [
    {
     "data": {
      "text/plain": [
       "2"
      ]
     },
     "execution_count": 35,
     "metadata": {},
     "output_type": "execute_result"
    }
   ],
   "source": [
    "product_code.count('-')\n"
   ]
  },
  {
   "cell_type": "code",
   "execution_count": 36,
   "id": "17e54cec-cd84-45c0-bb8c-800caed16143",
   "metadata": {},
   "outputs": [
    {
     "data": {
      "text/plain": [
       "'12345-XYZ'"
      ]
     },
     "execution_count": 36,
     "metadata": {},
     "output_type": "execute_result"
    }
   ],
   "source": [
    "a= product_code.removeprefix(\"SKU-\")\n",
    "a"
   ]
  },
  {
   "cell_type": "code",
   "execution_count": 37,
   "id": "8674d34f-73a1-49a1-8a46-cdf07075e6b7",
   "metadata": {},
   "outputs": [
    {
     "data": {
      "text/plain": [
       "'12345'"
      ]
     },
     "execution_count": 37,
     "metadata": {},
     "output_type": "execute_result"
    }
   ],
   "source": [
    "a.removesuffix(\"-XYZ\")"
   ]
  },
  {
   "cell_type": "code",
   "execution_count": null,
   "id": "adc9d85f-7488-4fd8-9fe7-5d62dd39070c",
   "metadata": {},
   "outputs": [],
   "source": []
  }
 ],
 "metadata": {
  "kernelspec": {
   "display_name": "Python 3 (ipykernel)",
   "language": "python",
   "name": "python3"
  },
  "language_info": {
   "codemirror_mode": {
    "name": "ipython",
    "version": 3
   },
   "file_extension": ".py",
   "mimetype": "text/x-python",
   "name": "python",
   "nbconvert_exporter": "python",
   "pygments_lexer": "ipython3",
   "version": "3.12.7"
  }
 },
 "nbformat": 4,
 "nbformat_minor": 5
}
